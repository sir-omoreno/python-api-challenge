{
 "cells": [
  {
   "cell_type": "markdown",
   "metadata": {},
   "source": [
    "# VacationPy\n",
    "----\n",
    "\n",
    "#### Note\n",
    "* Keep an eye on your API usage. Use https://developers.google.com/maps/reporting/gmp-reporting as reference for how to monitor your usage and billing.\n",
    "\n",
    "* Instructions have been included for each segment. You do not have to follow them exactly, but they are included to help you think through the steps."
   ]
  },
  {
   "cell_type": "code",
   "execution_count": 1,
   "metadata": {},
   "outputs": [],
   "source": [
    "# Dependencies and Setup\n",
    "import matplotlib.pyplot as plt\n",
    "import pandas as pd\n",
    "import numpy as np\n",
    "import requests\n",
    "import gmaps\n",
    "import os\n",
    "\n",
    "# Import API key\n",
    "from api_keys import g_key"
   ]
  },
  {
   "cell_type": "markdown",
   "metadata": {},
   "source": [
    "### Store Part I results into DataFrame\n",
    "* Load the csv exported in Part I to a DataFrame"
   ]
  },
  {
   "cell_type": "code",
   "execution_count": 13,
   "metadata": {},
   "outputs": [
    {
     "data": {
      "text/html": [
       "<div>\n",
       "<style scoped>\n",
       "    .dataframe tbody tr th:only-of-type {\n",
       "        vertical-align: middle;\n",
       "    }\n",
       "\n",
       "    .dataframe tbody tr th {\n",
       "        vertical-align: top;\n",
       "    }\n",
       "\n",
       "    .dataframe thead th {\n",
       "        text-align: right;\n",
       "    }\n",
       "</style>\n",
       "<table border=\"1\" class=\"dataframe\">\n",
       "  <thead>\n",
       "    <tr style=\"text-align: right;\">\n",
       "      <th></th>\n",
       "      <th>City</th>\n",
       "      <th>Latitude</th>\n",
       "      <th>Longitude</th>\n",
       "      <th>Max Temperature</th>\n",
       "      <th>Humidity</th>\n",
       "      <th>Cloudiness</th>\n",
       "      <th>Wind Speed</th>\n",
       "      <th>Country</th>\n",
       "      <th>Date</th>\n",
       "    </tr>\n",
       "  </thead>\n",
       "  <tbody>\n",
       "    <tr>\n",
       "      <th>0</th>\n",
       "      <td>Port Elizabeth</td>\n",
       "      <td>-33.9180</td>\n",
       "      <td>25.5701</td>\n",
       "      <td>66.20</td>\n",
       "      <td>88</td>\n",
       "      <td>20</td>\n",
       "      <td>13.80</td>\n",
       "      <td>ZA</td>\n",
       "      <td>2021-03-12 03:03:14</td>\n",
       "    </tr>\n",
       "    <tr>\n",
       "      <th>1</th>\n",
       "      <td>Sitka</td>\n",
       "      <td>57.0531</td>\n",
       "      <td>-135.3300</td>\n",
       "      <td>35.60</td>\n",
       "      <td>64</td>\n",
       "      <td>90</td>\n",
       "      <td>6.69</td>\n",
       "      <td>US</td>\n",
       "      <td>2021-03-12 03:03:16</td>\n",
       "    </tr>\n",
       "    <tr>\n",
       "      <th>2</th>\n",
       "      <td>Hilo</td>\n",
       "      <td>19.7297</td>\n",
       "      <td>-155.0900</td>\n",
       "      <td>75.20</td>\n",
       "      <td>83</td>\n",
       "      <td>90</td>\n",
       "      <td>9.22</td>\n",
       "      <td>US</td>\n",
       "      <td>2021-03-12 03:03:17</td>\n",
       "    </tr>\n",
       "    <tr>\n",
       "      <th>3</th>\n",
       "      <td>Celestún</td>\n",
       "      <td>20.8667</td>\n",
       "      <td>-90.4000</td>\n",
       "      <td>76.69</td>\n",
       "      <td>73</td>\n",
       "      <td>3</td>\n",
       "      <td>17.60</td>\n",
       "      <td>MX</td>\n",
       "      <td>2021-03-12 03:03:18</td>\n",
       "    </tr>\n",
       "    <tr>\n",
       "      <th>4</th>\n",
       "      <td>Butaritari</td>\n",
       "      <td>3.0707</td>\n",
       "      <td>172.7902</td>\n",
       "      <td>81.91</td>\n",
       "      <td>74</td>\n",
       "      <td>0</td>\n",
       "      <td>13.24</td>\n",
       "      <td>KI</td>\n",
       "      <td>2021-03-12 03:03:19</td>\n",
       "    </tr>\n",
       "  </tbody>\n",
       "</table>\n",
       "</div>"
      ],
      "text/plain": [
       "             City  Latitude  Longitude  Max Temperature  Humidity  Cloudiness  \\\n",
       "0  Port Elizabeth  -33.9180    25.5701            66.20        88          20   \n",
       "1           Sitka   57.0531  -135.3300            35.60        64          90   \n",
       "2            Hilo   19.7297  -155.0900            75.20        83          90   \n",
       "3        Celestún   20.8667   -90.4000            76.69        73           3   \n",
       "4      Butaritari    3.0707   172.7902            81.91        74           0   \n",
       "\n",
       "   Wind Speed Country                 Date  \n",
       "0       13.80      ZA  2021-03-12 03:03:14  \n",
       "1        6.69      US  2021-03-12 03:03:16  \n",
       "2        9.22      US  2021-03-12 03:03:17  \n",
       "3       17.60      MX  2021-03-12 03:03:18  \n",
       "4       13.24      KI  2021-03-12 03:03:19  "
      ]
     },
     "execution_count": 13,
     "metadata": {},
     "output_type": "execute_result"
    }
   ],
   "source": [
    "cities_df = pd.read_csv(\"output_data/cities.csv\")\n",
    "cities_df.head()\n"
   ]
  },
  {
   "cell_type": "markdown",
   "metadata": {},
   "source": [
    "### Humidity Heatmap\n",
    "* Configure gmaps.\n",
    "* Use the Lat and Lng as locations and Humidity as the weight.\n",
    "* Add Heatmap layer to map."
   ]
  },
  {
   "cell_type": "code",
   "execution_count": 3,
   "metadata": {},
   "outputs": [],
   "source": [
    "gmaps.configure(api_key=g_key)"
   ]
  },
  {
   "cell_type": "code",
   "execution_count": 10,
   "metadata": {},
   "outputs": [
    {
     "data": {
      "application/vnd.jupyter.widget-view+json": {
       "model_id": "4f9b20b3fd8e4e019c5c8633239f88e0",
       "version_major": 2,
       "version_minor": 0
      },
      "text/plain": [
       "Figure(layout=FigureLayout(height='420px'))"
      ]
     },
     "metadata": {},
     "output_type": "display_data"
    }
   ],
   "source": [
    "locations = cities_df[[\"Latitude\", \"Longitude\"]]\n",
    "\n",
    "humidity_as_weight = cities_df[\"Humidity\"]\n",
    "\n",
    "fig = gmaps.figure(zoom_level=1, center=(0, 0))\n",
    "\n",
    "# Adding Heatmap layer to map\n",
    "heat_layer = gmaps.heatmap_layer(locations, weights=humidity_as_weight, \n",
    "                                 dissipating=False, max_intensity=200,\n",
    "                                 point_radius = 5)\n",
    "\n",
    "fig.add_layer(heat_layer)\n",
    "\n",
    "fig"
   ]
  },
  {
   "cell_type": "markdown",
   "metadata": {},
   "source": [
    "# Narrow down the DataFrame to find your ideal weather condition. For example:\n",
    "A max temperature lower than 80 degrees but higher than 70.\n",
    "Wind speed less than 10 mph.\n",
    "Zero cloudiness.\n",
    "Drop any rows that don't contain all three conditions. You want to be sure the weather is ideal.\n",
    "Using Google Places API to find the first hotel for each city located within 5000 meters of your coordinates.\n",
    "Plot the hotels on top of the humidity heatmap with each pin containing the Hotel Name, City, and Country."
   ]
  },
  {
   "cell_type": "markdown",
   "metadata": {},
   "source": [
    "### Create new DataFrame fitting weather criteria\n",
    "* Narrow down the cities to fit weather conditions.\n",
    "* Drop any rows will null values."
   ]
  },
  {
   "cell_type": "code",
   "execution_count": 40,
   "metadata": {},
   "outputs": [
    {
     "data": {
      "text/plain": [
       "City               19\n",
       "Latitude           19\n",
       "Longitude          19\n",
       "Max Temperature    19\n",
       "Humidity           19\n",
       "Cloudiness         19\n",
       "Wind Speed         19\n",
       "Country            19\n",
       "Date               19\n",
       "dtype: int64"
      ]
     },
     "execution_count": 40,
     "metadata": {},
     "output_type": "execute_result"
    }
   ],
   "source": [
    "nice_weather_df = cities_df.loc[(cities_df[\"Max Temperature\"] > 70) & \n",
    "                                  (cities_df[\"Max Temperature\"] < 80) & \n",
    "                                  (cities_df[\"Wind Speed\"] < 10) &\n",
    "                                  (cities_df[\"Cloudiness\"] == 0)]\n",
    "\n",
    "nice_weather_df = nice_weather_df.reset_index(drop=True)\n",
    "\n",
    "nice_weather_df.count()"
   ]
  },
  {
   "cell_type": "markdown",
   "metadata": {},
   "source": [
    "### Hotel Map\n",
    "* Store into variable named `hotel_df`.\n",
    "* Add a \"Hotel Name\" column to the DataFrame.\n",
    "* Set parameters to search for hotels with 5000 meters.\n",
    "* Hit the Google Places API for each city's coordinates.\n",
    "* Store the first Hotel result into the DataFrame.\n",
    "* Plot markers on top of the heatmap."
   ]
  },
  {
   "cell_type": "code",
   "execution_count": 66,
   "metadata": {},
   "outputs": [
    {
     "name": "stdout",
     "output_type": "stream",
     "text": [
      "search done\n"
     ]
    }
   ],
   "source": [
    "url = \"https://maps.googleapis.com/maps/api/place/nearbysearch/json?\"\n",
    "place_type = \"lodging\"\n",
    "radius = 5000\n",
    "\n",
    "hotel_name_list = []\n",
    "hotel_latitude = []\n",
    "hotel_longitude = []\n",
    "\n",
    "for index, row in nice_weather_df.iterrows():\n",
    "    lat = row[\"Latitude\"]\n",
    "    lng = row[\"Longitude\"]\n",
    "    location = (f\"{lat},{lng}\")\n",
    "    \n",
    "    query_url = f\"{url}location={location}&radius={radius}&type={place_type}&key={g_key}\"\n",
    "    \n",
    "    response = requests.get(query_url)\n",
    "    response_json = response.json()\n",
    "    \n",
    "    try:\n",
    "        hotel_name_list.append(response_json[\"results\"][0][\"name\"])\n",
    "        hotel_latitude.append(response_json[\"results\"][0][\"geometry\"][\"location\"][\"lat\"])\n",
    "        hotel_longitude.append(response_json[\"results\"][0][\"geometry\"][\"location\"][\"lng\"])\n",
    "        \n",
    "    except (KeyError, IndexError):\n",
    "        print(\"search done\")"
   ]
  },
  {
   "cell_type": "code",
   "execution_count": 67,
   "metadata": {},
   "outputs": [
    {
     "data": {
      "text/plain": [
       "['Crystal Beach and Camping Resort Ormara',\n",
       " 'Chambres d\\'hôte \"La Trinité\"',\n",
       " 'Quality Suites Vila Velha',\n",
       " 'Kashmiri Hotal',\n",
       " 'Hotel Pigalle',\n",
       " 'Hotel Manglares',\n",
       " 'Hotel Gualok',\n",
       " 'Chácara Sombra do Altíssimo',\n",
       " 'Adventure Plus Resort & Park.',\n",
       " 'Pousada Beija Flor',\n",
       " 'Dharmakar Nagoji sowrakshana complex',\n",
       " 'Pousada 100 Passos',\n",
       " 'Pousada Aconchego',\n",
       " 'Hôtel Cap Macabou',\n",
       " 'Lords Inn Somnath',\n",
       " 'Forasteiro Pousada - Hotel',\n",
       " 'Dream Land',\n",
       " 'Falang Government Guesthouse']"
      ]
     },
     "execution_count": 67,
     "metadata": {},
     "output_type": "execute_result"
    }
   ],
   "source": [
    "hotel_name_list"
   ]
  },
  {
   "cell_type": "code",
   "execution_count": 68,
   "metadata": {},
   "outputs": [
    {
     "data": {
      "text/html": [
       "<div>\n",
       "<style scoped>\n",
       "    .dataframe tbody tr th:only-of-type {\n",
       "        vertical-align: middle;\n",
       "    }\n",
       "\n",
       "    .dataframe tbody tr th {\n",
       "        vertical-align: top;\n",
       "    }\n",
       "\n",
       "    .dataframe thead th {\n",
       "        text-align: right;\n",
       "    }\n",
       "</style>\n",
       "<table border=\"1\" class=\"dataframe\">\n",
       "  <thead>\n",
       "    <tr style=\"text-align: right;\">\n",
       "      <th></th>\n",
       "      <th>Hotel Name</th>\n",
       "      <th>Hotel Latitude</th>\n",
       "      <th>Hotel Longitude</th>\n",
       "    </tr>\n",
       "  </thead>\n",
       "  <tbody>\n",
       "    <tr>\n",
       "      <th>0</th>\n",
       "      <td>Crystal Beach and Camping Resort Ormara</td>\n",
       "      <td>25.235929</td>\n",
       "      <td>64.608533</td>\n",
       "    </tr>\n",
       "    <tr>\n",
       "      <th>1</th>\n",
       "      <td>Chambres d'hôte \"La Trinité\"</td>\n",
       "      <td>-21.358434</td>\n",
       "      <td>55.770322</td>\n",
       "    </tr>\n",
       "    <tr>\n",
       "      <th>2</th>\n",
       "      <td>Quality Suites Vila Velha</td>\n",
       "      <td>-20.335028</td>\n",
       "      <td>-40.280975</td>\n",
       "    </tr>\n",
       "    <tr>\n",
       "      <th>3</th>\n",
       "      <td>Kashmiri Hotal</td>\n",
       "      <td>25.263607</td>\n",
       "      <td>63.470488</td>\n",
       "    </tr>\n",
       "    <tr>\n",
       "      <th>4</th>\n",
       "      <td>Hotel Pigalle</td>\n",
       "      <td>-6.970959</td>\n",
       "      <td>-34.837995</td>\n",
       "    </tr>\n",
       "  </tbody>\n",
       "</table>\n",
       "</div>"
      ],
      "text/plain": [
       "                                Hotel Name  Hotel Latitude  Hotel Longitude\n",
       "0  Crystal Beach and Camping Resort Ormara       25.235929        64.608533\n",
       "1             Chambres d'hôte \"La Trinité\"      -21.358434        55.770322\n",
       "2                Quality Suites Vila Velha      -20.335028       -40.280975\n",
       "3                           Kashmiri Hotal       25.263607        63.470488\n",
       "4                            Hotel Pigalle       -6.970959       -34.837995"
      ]
     },
     "execution_count": 68,
     "metadata": {},
     "output_type": "execute_result"
    }
   ],
   "source": [
    "hotel_df = pd.DataFrame(\n",
    "    {'Hotel Name' : hotel_name_list,\n",
    "    'Hotel Latitude' : hotel_latitude,\n",
    "    'Hotel Longitude' : hotel_longitude,}\n",
    ")\n",
    "\n",
    "hotel_df.head()"
   ]
  },
  {
   "cell_type": "code",
   "execution_count": 74,
   "metadata": {},
   "outputs": [
    {
     "data": {
      "text/html": [
       "<div>\n",
       "<style scoped>\n",
       "    .dataframe tbody tr th:only-of-type {\n",
       "        vertical-align: middle;\n",
       "    }\n",
       "\n",
       "    .dataframe tbody tr th {\n",
       "        vertical-align: top;\n",
       "    }\n",
       "\n",
       "    .dataframe thead th {\n",
       "        text-align: right;\n",
       "    }\n",
       "</style>\n",
       "<table border=\"1\" class=\"dataframe\">\n",
       "  <thead>\n",
       "    <tr style=\"text-align: right;\">\n",
       "      <th></th>\n",
       "      <th>City</th>\n",
       "      <th>Latitude</th>\n",
       "      <th>Longitude</th>\n",
       "      <th>Max Temperature</th>\n",
       "      <th>Humidity</th>\n",
       "      <th>Cloudiness</th>\n",
       "      <th>Wind Speed</th>\n",
       "      <th>Country</th>\n",
       "      <th>Date</th>\n",
       "      <th>City</th>\n",
       "      <th>...</th>\n",
       "      <th>Longitude</th>\n",
       "      <th>Max Temperature</th>\n",
       "      <th>Humidity</th>\n",
       "      <th>Cloudiness</th>\n",
       "      <th>Wind Speed</th>\n",
       "      <th>Country</th>\n",
       "      <th>Date</th>\n",
       "      <th>Hotel Name</th>\n",
       "      <th>Hotel Latitude</th>\n",
       "      <th>Hotel Longitude</th>\n",
       "    </tr>\n",
       "  </thead>\n",
       "  <tbody>\n",
       "    <tr>\n",
       "      <th>0</th>\n",
       "      <td>Ormara</td>\n",
       "      <td>25.2088</td>\n",
       "      <td>64.6357</td>\n",
       "      <td>72.63</td>\n",
       "      <td>79</td>\n",
       "      <td>0</td>\n",
       "      <td>3.51</td>\n",
       "      <td>PK</td>\n",
       "      <td>2021-03-12 03:03:38</td>\n",
       "      <td>Ormara</td>\n",
       "      <td>...</td>\n",
       "      <td>64.6357</td>\n",
       "      <td>72.63</td>\n",
       "      <td>79</td>\n",
       "      <td>0</td>\n",
       "      <td>3.51</td>\n",
       "      <td>PK</td>\n",
       "      <td>2021-03-12 03:03:38</td>\n",
       "      <td>Crystal Beach and Camping Resort Ormara</td>\n",
       "      <td>25.235929</td>\n",
       "      <td>64.608533</td>\n",
       "    </tr>\n",
       "    <tr>\n",
       "      <th>1</th>\n",
       "      <td>Saint-Philippe</td>\n",
       "      <td>-21.3585</td>\n",
       "      <td>55.7679</td>\n",
       "      <td>75.20</td>\n",
       "      <td>64</td>\n",
       "      <td>0</td>\n",
       "      <td>6.91</td>\n",
       "      <td>RE</td>\n",
       "      <td>2021-03-12 03:03:56</td>\n",
       "      <td>Saint-Philippe</td>\n",
       "      <td>...</td>\n",
       "      <td>55.7679</td>\n",
       "      <td>75.20</td>\n",
       "      <td>64</td>\n",
       "      <td>0</td>\n",
       "      <td>6.91</td>\n",
       "      <td>RE</td>\n",
       "      <td>2021-03-12 03:03:56</td>\n",
       "      <td>Chambres d'hôte \"La Trinité\"</td>\n",
       "      <td>-21.358434</td>\n",
       "      <td>55.770322</td>\n",
       "    </tr>\n",
       "    <tr>\n",
       "      <th>2</th>\n",
       "      <td>Vila Velha</td>\n",
       "      <td>-20.3297</td>\n",
       "      <td>-40.2925</td>\n",
       "      <td>77.00</td>\n",
       "      <td>88</td>\n",
       "      <td>0</td>\n",
       "      <td>5.75</td>\n",
       "      <td>BR</td>\n",
       "      <td>2021-03-12 03:00:24</td>\n",
       "      <td>Vila Velha</td>\n",
       "      <td>...</td>\n",
       "      <td>-40.2925</td>\n",
       "      <td>77.00</td>\n",
       "      <td>88</td>\n",
       "      <td>0</td>\n",
       "      <td>5.75</td>\n",
       "      <td>BR</td>\n",
       "      <td>2021-03-12 03:00:24</td>\n",
       "      <td>Quality Suites Vila Velha</td>\n",
       "      <td>-20.335028</td>\n",
       "      <td>-40.280975</td>\n",
       "    </tr>\n",
       "    <tr>\n",
       "      <th>3</th>\n",
       "      <td>Pasni</td>\n",
       "      <td>25.2631</td>\n",
       "      <td>63.4710</td>\n",
       "      <td>73.15</td>\n",
       "      <td>77</td>\n",
       "      <td>0</td>\n",
       "      <td>6.67</td>\n",
       "      <td>PK</td>\n",
       "      <td>2021-03-12 03:06:10</td>\n",
       "      <td>Pasni</td>\n",
       "      <td>...</td>\n",
       "      <td>63.4710</td>\n",
       "      <td>73.15</td>\n",
       "      <td>77</td>\n",
       "      <td>0</td>\n",
       "      <td>6.67</td>\n",
       "      <td>PK</td>\n",
       "      <td>2021-03-12 03:06:10</td>\n",
       "      <td>Kashmiri Hotal</td>\n",
       "      <td>25.263607</td>\n",
       "      <td>63.470488</td>\n",
       "    </tr>\n",
       "    <tr>\n",
       "      <th>4</th>\n",
       "      <td>Cabedelo</td>\n",
       "      <td>-6.9811</td>\n",
       "      <td>-34.8339</td>\n",
       "      <td>78.80</td>\n",
       "      <td>89</td>\n",
       "      <td>0</td>\n",
       "      <td>4.61</td>\n",
       "      <td>BR</td>\n",
       "      <td>2021-03-12 03:06:43</td>\n",
       "      <td>Cabedelo</td>\n",
       "      <td>...</td>\n",
       "      <td>-34.8339</td>\n",
       "      <td>78.80</td>\n",
       "      <td>89</td>\n",
       "      <td>0</td>\n",
       "      <td>4.61</td>\n",
       "      <td>BR</td>\n",
       "      <td>2021-03-12 03:06:43</td>\n",
       "      <td>Hotel Pigalle</td>\n",
       "      <td>-6.970959</td>\n",
       "      <td>-34.837995</td>\n",
       "    </tr>\n",
       "  </tbody>\n",
       "</table>\n",
       "<p>5 rows × 21 columns</p>\n",
       "</div>"
      ],
      "text/plain": [
       "             City  Latitude  Longitude  Max Temperature  Humidity  Cloudiness  \\\n",
       "0          Ormara   25.2088    64.6357            72.63        79           0   \n",
       "1  Saint-Philippe  -21.3585    55.7679            75.20        64           0   \n",
       "2      Vila Velha  -20.3297   -40.2925            77.00        88           0   \n",
       "3           Pasni   25.2631    63.4710            73.15        77           0   \n",
       "4        Cabedelo   -6.9811   -34.8339            78.80        89           0   \n",
       "\n",
       "   Wind Speed  Country                 Date            City  ...  Longitude  \\\n",
       "0        3.51       PK  2021-03-12 03:03:38          Ormara  ...    64.6357   \n",
       "1        6.91       RE  2021-03-12 03:03:56  Saint-Philippe  ...    55.7679   \n",
       "2        5.75       BR  2021-03-12 03:00:24      Vila Velha  ...   -40.2925   \n",
       "3        6.67       PK  2021-03-12 03:06:10           Pasni  ...    63.4710   \n",
       "4        4.61       BR  2021-03-12 03:06:43        Cabedelo  ...   -34.8339   \n",
       "\n",
       "   Max Temperature  Humidity  Cloudiness  Wind Speed  Country  \\\n",
       "0            72.63        79           0        3.51       PK   \n",
       "1            75.20        64           0        6.91       RE   \n",
       "2            77.00        88           0        5.75       BR   \n",
       "3            73.15        77           0        6.67       PK   \n",
       "4            78.80        89           0        4.61       BR   \n",
       "\n",
       "                  Date                               Hotel Name  \\\n",
       "0  2021-03-12 03:03:38  Crystal Beach and Camping Resort Ormara   \n",
       "1  2021-03-12 03:03:56             Chambres d'hôte \"La Trinité\"   \n",
       "2  2021-03-12 03:00:24                Quality Suites Vila Velha   \n",
       "3  2021-03-12 03:06:10                           Kashmiri Hotal   \n",
       "4  2021-03-12 03:06:43                            Hotel Pigalle   \n",
       "\n",
       "  Hotel Latitude  Hotel Longitude  \n",
       "0      25.235929        64.608533  \n",
       "1     -21.358434        55.770322  \n",
       "2     -20.335028       -40.280975  \n",
       "3      25.263607        63.470488  \n",
       "4      -6.970959       -34.837995  \n",
       "\n",
       "[5 rows x 21 columns]"
      ]
     },
     "execution_count": 74,
     "metadata": {},
     "output_type": "execute_result"
    }
   ],
   "source": [
    "hotel_info = pd.concat([nice_weather_df, hotel_df], axis=1)\n",
    "hotel_info.head()"
   ]
  },
  {
   "cell_type": "code",
   "execution_count": 76,
   "metadata": {},
   "outputs": [],
   "source": [
    "# NOTE: Do not change any of the code in this cell\n",
    "\n",
    "# Using the template add the hotel marks to the heatmap\n",
    "info_box_template = \"\"\"\n",
    "<dl>\n",
    "<dt>Name</dt><dd>{Hotel Name}</dd>\n",
    "<dt>City</dt><dd>{City}</dd>\n",
    "<dt>Country</dt><dd>{Country}</dd>\n",
    "</dl>\n",
    "\"\"\"\n",
    "# Store the DataFrame Row\n",
    "# NOTE: be sure to update with your DataFrame name\n",
    "hotel_info = [info_box_template.format(**row) for index, row in hotel_df.iterrows()]\n",
    "locations = hotel_df[[\"Latitude\", \"Longitude\"]]"
   ]
  },
  {
   "cell_type": "code",
   "execution_count": 78,
   "metadata": {},
   "outputs": [
    {
     "data": {
      "application/vnd.jupyter.widget-view+json": {
       "model_id": "4f9b20b3fd8e4e019c5c8633239f88e0",
       "version_major": 2,
       "version_minor": 0
      },
      "text/plain": [
       "Figure(layout=FigureLayout(height='420px'))"
      ]
     },
     "metadata": {},
     "output_type": "display_data"
    }
   ],
   "source": [
    "# Add marker layer ontop of heat map\n",
    "hotel_marker_layer = gmaps.marker_layer(locations, info_box_content=hotel_info)\n",
    "fig.add_layer(hotel_marker_layer)\n",
    "\n",
    "# Display figure\n",
    "fig"
   ]
  },
  {
   "cell_type": "code",
   "execution_count": null,
   "metadata": {},
   "outputs": [],
   "source": []
  }
 ],
 "metadata": {
  "kernelspec": {
   "display_name": "Python 3",
   "language": "python",
   "name": "python3"
  },
  "language_info": {
   "codemirror_mode": {
    "name": "ipython",
    "version": 3
   },
   "file_extension": ".py",
   "mimetype": "text/x-python",
   "name": "python",
   "nbconvert_exporter": "python",
   "pygments_lexer": "ipython3",
   "version": "3.7.6"
  },
  "latex_envs": {
   "LaTeX_envs_menu_present": true,
   "autoclose": false,
   "autocomplete": true,
   "bibliofile": "biblio.bib",
   "cite_by": "apalike",
   "current_citInitial": 1,
   "eqLabelWithNumbers": true,
   "eqNumInitial": 1,
   "hotkeys": {
    "equation": "Ctrl-E",
    "itemize": "Ctrl-I"
   },
   "labels_anchors": false,
   "latex_user_defs": false,
   "report_style_numbering": false,
   "user_envs_cfg": false
  }
 },
 "nbformat": 4,
 "nbformat_minor": 4
}
